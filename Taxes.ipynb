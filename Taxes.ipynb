{
 "cells": [
  {
   "cell_type": "markdown",
   "id": "38dadc40-8922-461e-a9da-0a3da1269c8d",
   "metadata": {},
   "source": [
    "# Tax optimisation\n",
    "\n",
    "## Tax slabs\n",
    "\n",
    "First, we summarise the current taxation scheme for [corporations](https://cleartax.in/s/corporate-tax) and [individuals](https://cleartax.in/s/income-tax-slabs/) in FY2020-21.\n",
    "\n",
    "Each scheme comprises a set of slabs and the applicable tax rate to income within that slab, as well as a similar set of surcharges applicable to income above a certain threshold.\n",
    "\n",
    "The corporate tax scheme described here applies to companies with an annual turnover not exceeding 4B (400 Cr) that have not opted for the new taxation regime u/s [115BAA](https://cleartax.in/s/section-115-baa-tax-rate-domestic-companies/) (for all domestic companies) or [115BAB](https://cleartax.in/s/section-115-bab-corporate-tax-rate-new-manufacturing-companies/) (for manufacturing companies).\n",
    "\n",
    "The individual scheme represents the tax slabs for an individual below 60 years of age under the \"old regime\"."
   ]
  },
  {
   "cell_type": "code",
   "execution_count": 1,
   "id": "48d8ffcf-5b45-49d6-98c2-82e76e56d7c5",
   "metadata": {},
   "outputs": [],
   "source": [
    "corporate_taxes = {\n",
    "    \"slabs\": [\n",
    "        (0, float('inf'), 0.25),\n",
    "    ],\n",
    "    \"surcharges\": [\n",
    "        (10_000_000, 100_000_000, 0.07),\n",
    "        (100_000_001, float('inf'), 0.12),\n",
    "    ],\n",
    "}\n",
    "\n",
    "individual_taxes = {\n",
    "    \"slabs\": [\n",
    "        (0, 250_000, 0),\n",
    "        (250_001, 500_000, 0.05),\n",
    "        (500_001, 1_000_000, 0.20),\n",
    "        (1_000_001, float('inf'), 0.30),\n",
    "    ],\n",
    "    \"surcharges\": [\n",
    "        (5_000_000, 10_000_000, 0.10),\n",
    "        (10_000_001, float('inf'), 0.15),\n",
    "    ],\n",
    "    \"rebates\": [\n",
    "        # u/s 87A\n",
    "        (0, 500_000, 12_500)\n",
    "    ]\n",
    "}"
   ]
  },
  {
   "cell_type": "markdown",
   "id": "809267dd-4aa8-4b80-a678-bf8af97cdd88",
   "metadata": {},
   "source": [
    "While we're at it, let's define the opt-in \"new regime\" for individuals (with lower rates, but almost no permissible deductions) as a separate scheme. Note that this one doesn't vary with age (whereas the old regime relaxes the slab boundaries for senior citizens)."
   ]
  },
  {
   "cell_type": "code",
   "execution_count": 2,
   "id": "72170b4f-719c-4287-88b8-e4a793c338bf",
   "metadata": {
    "jupyter": {
     "source_hidden": true
    },
    "tags": []
   },
   "outputs": [],
   "source": [
    "individual_new_regime_taxes = {\n",
    "    \"slabs\": [\n",
    "        (0, 250_000, 0),\n",
    "        (250_001, 300_000, 0.05),\n",
    "        (300_001, 500_000, 0.05),\n",
    "        (500_001, 750_000, 0.10),\n",
    "        (750_001, 1_000_000, 0.15),\n",
    "        (1_000_001, 1_250_000, 0.20),\n",
    "        (1_250_001, 1_500_000, 0.25),\n",
    "        (1_500_001, float('inf'), 0.30),\n",
    "    ],\n",
    "    \"surcharges\": [\n",
    "        (5_000_000, 10_000_000, 0.10),\n",
    "        (10_000_001, float('inf'), 0.15),\n",
    "    ],\n",
    "    \"rebates\": [\n",
    "        # u/s 87A\n",
    "        (0, 500_000, 12_500)\n",
    "    ]\n",
    "}"
   ]
  },
  {
   "cell_type": "markdown",
   "id": "73063465-434a-4dfc-996c-a3611cfb4894",
   "metadata": {},
   "source": [
    "## Income tax computation\n",
    "\n",
    "Next, we define a function to calculate the tax payable for a given `amount` of taxable income according to a particular `scheme` as defined above.\n",
    "\n",
    "Note that this function doesn't know anything about any permissible deductions—you must first apply all deductions to the gross income to arrive at the taxable income. It calculates the [marginal relief](https://cleartax.in/s/marginal-relief-surcharge/) available for the surcharge computation, as well as the rebate available to individuals in the lowest tax slab u/s [87A](https://cleartax.in/s/income-tax-rebate-us-87a/)."
   ]
  },
  {
   "cell_type": "code",
   "execution_count": 7,
   "id": "7dde2157-5864-42f1-8d88-2f7414ec4d87",
   "metadata": {},
   "outputs": [],
   "source": [
    "def income_tax(amount, scheme):\n",
    "    tax = 0\n",
    "\n",
    "    # First, we must apply the slab rate for the relevant portion of each\n",
    "    # applicable slab.\n",
    "    for slab in scheme['slabs']:\n",
    "        max = slab[1]\n",
    "        if amount < max:\n",
    "            max = amount\n",
    "        if amount > slab[0]:\n",
    "            tax += (max - slab[0]) * slab[2]\n",
    "\n",
    "    # Next, we calculate the surcharge, if applicable.\n",
    "    #\n",
    "    # Note that there can be only one surcharge, unlike the slab computation\n",
    "    # above (where taxes are added for every slab below the taxable amount).\n",
    "    #\n",
    "    # When we calculate the surcharge, we must also check if \"marginal relief\"\n",
    "    # is applicable, whereby the surcharge is reduced so that a higher taxable\n",
    "    # amount doesn't result in a lower post-tax profit.\n",
    "    for slab in scheme['surcharges']:\n",
    "        if slab[0] <= amount <= slab[1]:\n",
    "            surcharge = tax * slab[2]\n",
    "            excess_income = amount - slab[0]\n",
    "            threshold_tax = income_tax(slab[0]-1, scheme)/1.04\n",
    "            excess_tax = tax + surcharge - threshold_tax\n",
    "            relief = excess_tax - excess_income\n",
    "            if relief > 0:\n",
    "                surcharge -= relief\n",
    "\n",
    "            tax += surcharge\n",
    "            break\n",
    "\n",
    "    # Handle any applicable rebates (e.g., u/s 87A)\n",
    "    for r in scheme.get('rebates', []):\n",
    "        if r[0] <= amount <= r[1]:\n",
    "            rebate = r[2]\n",
    "            if tax < rebate:\n",
    "                rebate = tax\n",
    "            tax -= rebate\n",
    "\n",
    "    # Finally, we apply the 4% health and education cess.\n",
    "    tax *= 1.04\n",
    "\n",
    "    return tax"
   ]
  },
  {
   "cell_type": "markdown",
   "id": "cb3afc9c-0152-49c7-adf0-f18a5a677c04",
   "metadata": {},
   "source": [
    "With this function, we can now compare the income tax payable by a company or an individual for a given amount (of taxable income, not gross income)."
   ]
  },
  {
   "cell_type": "code",
   "execution_count": 9,
   "id": "ae5c9369-517e-42c4-8cbb-69772dcacba9",
   "metadata": {
    "jupyter": {
     "source_hidden": true
    },
    "tags": []
   },
   "outputs": [
    {
     "data": {
      "application/vnd.jupyter.widget-view+json": {
       "model_id": "298e623e042b4eb8b68e65add82ac053",
       "version_major": 2,
       "version_minor": 0
      },
      "text/plain": [
       "HBox(children=(interactive(children=(IntSlider(value=100000, description='Taxable', max=100000000, readout_for…"
      ]
     },
     "metadata": {},
     "output_type": "display_data"
    }
   ],
   "source": [
    "import pandas as pd\n",
    "from IPython.display import HTML, display\n",
    "from ipywidgets import interact, interactive, fixed, interact_manual\n",
    "import ipywidgets as widgets\n",
    "from matplotlib import pyplot as plt\n",
    "\n",
    "%matplotlib inline\n",
    "\n",
    "def format_tax(amount, scheme):\n",
    "    return format(income_tax(amount, scheme), ',.2f')\n",
    "\n",
    "def tax_table(n):\n",
    "    taxes = [\n",
    "        [\"Corporate\", format_tax(n, corporate_taxes)],\n",
    "        [\"Individual\", format_tax(n, individual_taxes)],\n",
    "    ]\n",
    "    display(HTML(pd.DataFrame(taxes, columns=[\"Taxpayer\", \"Payable\"]).to_html()))\n",
    "\n",
    "slider = interactive(tax_table, n=widgets.IntSlider(min=0, max=100_000_000, step=100_000, value=100_000, description='Taxable', readout_format=',d'))\n",
    "    \n",
    "output = widgets.Output()\n",
    "with output:\n",
    "    plt.title(\"Tax comparison\")\n",
    "    plt.xlabel(\"Taxable amount\")\n",
    "    plt.ylabel(\"Tax\")\n",
    "\n",
    "    amounts = []\n",
    "    corporate = []\n",
    "    individual = []\n",
    "    for n in range(0, 15_000_000, 50_000):\n",
    "        amounts.append(n)\n",
    "        corporate.append(income_tax(n, corporate_taxes))\n",
    "        individual.append(income_tax(n, individual_taxes))\n",
    "        \n",
    "    c_line , = plt.plot(amounts, corporate, label='Corporate')\n",
    "    i_line , = plt.plot(amounts, individual, label='Individual')\n",
    "    plt.legend(handles=[c_line, i_line])\n",
    "    \n",
    "    xticks = []\n",
    "    xlabels = []\n",
    "    for n in range(0, 15_000_000, 2_500_000):\n",
    "        xticks.append(n)\n",
    "        if n < 10_000_000:\n",
    "            xlabels.append('%sL' % int(n/100_000))\n",
    "        else:\n",
    "            xlabels.append('%sCr' % format(n/10_000_000, '.2f'))\n",
    "    plt.xticks(ticks=xticks, labels=xlabels)\n",
    "    \n",
    "    yticks = []\n",
    "    ylabels = []\n",
    "    for n in range(0, 5_000_000, 1_000_000):\n",
    "        yticks.append(n)\n",
    "        ylabels.append('%sL' % int(n/100_000))\n",
    "    plt.yticks(ticks=yticks, labels=ylabels)\n",
    "    plt.show()\n",
    "\n",
    "ui = widgets.HBox([slider, output])\n",
    "display(ui)"
   ]
  },
  {
   "cell_type": "code",
   "execution_count": null,
   "id": "7192bfb7-7476-4d5c-b666-3d09e8d7ecbb",
   "metadata": {},
   "outputs": [],
   "source": []
  }
 ],
 "metadata": {
  "kernelspec": {
   "display_name": "Python 3",
   "language": "python",
   "name": "python3"
  },
  "language_info": {
   "codemirror_mode": {
    "name": "ipython",
    "version": 3
   },
   "file_extension": ".py",
   "mimetype": "text/x-python",
   "name": "python",
   "nbconvert_exporter": "python",
   "pygments_lexer": "ipython3",
   "version": "3.7.3"
  }
 },
 "nbformat": 4,
 "nbformat_minor": 5
}
